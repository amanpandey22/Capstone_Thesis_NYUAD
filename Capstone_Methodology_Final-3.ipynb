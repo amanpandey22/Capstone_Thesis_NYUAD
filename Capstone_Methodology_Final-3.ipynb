{
 "cells": [
  {
   "cell_type": "code",
   "execution_count": null,
   "metadata": {},
   "outputs": [],
   "source": [
    "pip install --upgrade --no-deps statsmodels"
   ]
  },
  {
   "cell_type": "code",
   "execution_count": null,
   "metadata": {},
   "outputs": [],
   "source": [
    "#Required Libraries\n",
    "import pandas as pd\n",
    "import numpy as np\n",
    "import matplotlib.pyplot as plt\n",
    "from statsmodels.tsa.stattools import adfuller\n",
    "from statsmodels.tsa.stattools import grangercausalitytests\n",
    "from statsmodels.tsa.api import VAR\n",
    "from statsmodels.tools.eval_measures import rmse, aic"
   ]
  },
  {
   "cell_type": "code",
   "execution_count": null,
   "metadata": {},
   "outputs": [],
   "source": [
    "#Uploading the dataset Tweets_final_Comp__Ver_3_en.xlsx\n",
    "data_final = pd.read_excel(\"Tweets_final_Comp__Ver_3_en.xlsx\", index_col=0)\n"
   ]
  },
  {
   "cell_type": "code",
   "execution_count": null,
   "metadata": {
    "scrolled": false
   },
   "outputs": [],
   "source": [
    "data_final"
   ]
  },
  {
   "cell_type": "code",
   "execution_count": null,
   "metadata": {},
   "outputs": [],
   "source": [
    "data_final[\"Daily_change_stock\"].fillna(data_final[\"Daily_change_stock\"].mean(), inplace=True)"
   ]
  },
  {
   "cell_type": "code",
   "execution_count": null,
   "metadata": {},
   "outputs": [],
   "source": [
    "data_final.describe()"
   ]
  },
  {
   "cell_type": "code",
   "execution_count": null,
   "metadata": {},
   "outputs": [],
   "source": [
    "data_final_granger = pd.DataFrame() "
   ]
  },
  {
   "cell_type": "code",
   "execution_count": null,
   "metadata": {},
   "outputs": [],
   "source": [
    "data_final_granger"
   ]
  },
  {
   "cell_type": "code",
   "execution_count": null,
   "metadata": {},
   "outputs": [],
   "source": [
    "data_final_granger[\"Daily_change_stock\"] = data_final[\"Daily_change_stock\"]\n",
    "data_final_granger[\"compound\"] = data_final[\"Compound_scaled\"]\n",
    "data_final_granger[\"Happy\"] = data_final[\"Happy_scaled\"]\n",
    "data_final_granger[\"Angry\"] = data_final[\"Angry_scaled\"]\n",
    "data_final_granger[\"Surprise\"] = data_final[\"Surprise_scaled\"]\n",
    "data_final_granger[\"Sad\"] = data_final[\"Sad_scaled\"]\n",
    "data_final_granger[\"Fear\"] = data_final[\"Fear_scaled\"]\n"
   ]
  },
  {
   "cell_type": "code",
   "execution_count": null,
   "metadata": {},
   "outputs": [],
   "source": [
    "from sklearn.preprocessing import StandardScaler\n",
    "x_1 = data_final_granger[['Daily_change_stock']].values.astype(float)\n",
    "\n",
    "scaler = StandardScaler().fit(x_1)\n",
    "\n",
    "scaled_data = scaler.transform(x_1)\n",
    "\n",
    "data_final_granger['Daily_change_stock_scaled'] = scaled_data\n",
    "\n",
    "data_final_granger.tail()\n",
    "len(data_final_granger)"
   ]
  },
  {
   "cell_type": "code",
   "execution_count": null,
   "metadata": {},
   "outputs": [],
   "source": [
    "#Standarzing the values for analysis\n",
    "from sklearn.preprocessing import StandardScaler\n",
    "scaler = StandardScaler()\n",
    "data_final_granger[data_final_granger.columns] = scaler.fit_transform(data_final_granger[data_final_granger.columns])"
   ]
  },
  {
   "cell_type": "code",
   "execution_count": null,
   "metadata": {
    "scrolled": false
   },
   "outputs": [],
   "source": [
    "data_final_granger"
   ]
  },
  {
   "cell_type": "code",
   "execution_count": null,
   "metadata": {},
   "outputs": [],
   "source": [
    "data_final_granger.describe()"
   ]
  },
  {
   "cell_type": "code",
   "execution_count": null,
   "metadata": {
    "scrolled": false
   },
   "outputs": [],
   "source": [
    "#Plotting the graph\n",
    "plt.figure(figsize=(20,10))\n",
    "plt.plot(data_final_granger[\"Daily_change_stock\"].iloc[:20],color=\"#008000\")\n",
    "plt.plot(data_final_granger[\"compound\"].iloc[:20],color=\"y\")\n",
    "plt.plot(data_final_granger[\"Happy\"].iloc[:20],color=\"b\")\n",
    "plt.plot(data_final_granger[\"Angry\"].iloc[:20],color=\"r\")\n",
    "plt.plot(data_final_granger[\"Surprise\"].iloc[:20],color=\"c\")\n",
    "plt.plot(data_final_granger[\"Sad\"].iloc[:20],color=\"m\")\n",
    "plt.plot(data_final_granger[\"Fear\"].iloc[:20],color=\"k\")\n",
    "plt.legend([\"Daily change in stock price\", \"Positive\",\"Negative\",\"Neutral\",\"Compound\",\"Happy\",\"Angry\",\"Surprise\",\"Sad\",\" Fear\"])\n",
    "plt.savefig(\"GraphOne.png\")"
   ]
  },
  {
   "cell_type": "markdown",
   "metadata": {},
   "source": [
    "Graphs for each sentiments"
   ]
  },
  {
   "cell_type": "code",
   "execution_count": null,
   "metadata": {},
   "outputs": [],
   "source": [
    "plt.figure(figsize=(12,8))\n",
    "plt.plot(data_final_granger[\"Daily_change_stock_scaled\"].iloc[:30],color=\"r\")\n",
    "plt.plot(data_final_granger[\"compound\"].iloc[:30],color=\"b\")\n",
    "plt.legend([\"Daily change in stock price\", \"Compound\"])\n",
    "plt.savefig(\"Comp_Stock.png\")"
   ]
  },
  {
   "cell_type": "code",
   "execution_count": null,
   "metadata": {},
   "outputs": [],
   "source": [
    "plt.figure(figsize=(12,8))\n",
    "plt.plot(data_final_granger[\"Daily_change_stock_scaled\"].iloc[:30],color=\"r\")\n",
    "plt.plot(data_final_granger[\"Happy\"].iloc[:30],color=\"b\")\n",
    "plt.legend([\"Daily change in stock price\", \"Happy\"])\n",
    "plt.savefig(\"Happy_Stock.png\")"
   ]
  },
  {
   "cell_type": "code",
   "execution_count": null,
   "metadata": {},
   "outputs": [],
   "source": [
    "plt.figure(figsize=(12,8))\n",
    "plt.plot(data_final_granger[\"Daily_change_stock_scaled\"].iloc[:30],color=\"r\")\n",
    "plt.plot(data_final_granger[\"Angry\"].iloc[:30],color=\"b\")\n",
    "plt.legend([\"Daily change in stock price\", \"Angry\"])\n",
    "plt.savefig(\"Angry_Stock.png\")"
   ]
  },
  {
   "cell_type": "code",
   "execution_count": null,
   "metadata": {},
   "outputs": [],
   "source": [
    "plt.figure(figsize=(12,8))\n",
    "plt.plot(data_final_granger[\"Daily_change_stock_scaled\"].iloc[:30],color=\"r\")\n",
    "plt.plot(data_final_granger[\"Surprise\"].iloc[:30],color=\"b\")\n",
    "plt.legend([\"Daily change in stock price\", \"Surprise\"])\n",
    "plt.savefig(\"Surprise_Stock.png\")"
   ]
  },
  {
   "cell_type": "code",
   "execution_count": null,
   "metadata": {},
   "outputs": [],
   "source": [
    "plt.figure(figsize=(12,8))\n",
    "plt.plot(data_final_granger[\"Daily_change_stock_scaled\"].iloc[:30],color=\"r\")\n",
    "plt.plot(data_final_granger[\"Sad\"].iloc[:30],color=\"b\")\n",
    "plt.legend([\"Daily change in stock price\", \"Sad\"])\n",
    "plt.savefig(\"Sad_Stock.png\")"
   ]
  },
  {
   "cell_type": "code",
   "execution_count": null,
   "metadata": {},
   "outputs": [],
   "source": [
    "plt.figure(figsize=(12,8))\n",
    "plt.plot(data_final_granger[\"Daily_change_stock_scaled\"].iloc[:30],color=\"r\")\n",
    "plt.plot(data_final_granger[\"Fear\"].iloc[:30],color=\"b\")\n",
    "plt.legend([\"Daily change in stock price\", \"Fear\"])\n",
    "plt.savefig(\"Fear_Stock.png\")"
   ]
  },
  {
   "cell_type": "code",
   "execution_count": null,
   "metadata": {},
   "outputs": [],
   "source": [
    "fig, axs = plt.subplots(6,sharex=True,figsize=(15,15))\n",
    "fig.suptitle('Stock Price Movement and Daily Sentiment  Jan 10 - Jan 30, 2020')\n",
    "axs[0].plot(data_final_granger[\"Daily_change_stock_scaled\"].iloc[:30],color=\"y\")\n",
    "axs[0].plot(data_final_granger[\"compound\"].iloc[:30],color=\"b\")\n",
    "axs[1].plot(data_final_granger[\"Daily_change_stock_scaled\"].iloc[:30],color=\"y\")\n",
    "axs[1].plot(data_final_granger[\"Happy\"].iloc[:30],color=\"r\")\n",
    "axs[2].plot(data_final_granger[\"Daily_change_stock_scaled\"].iloc[:30],color=\"y\")\n",
    "axs[2].plot(data_final_granger[\"Angry\"].iloc[:30],color=\"c\")\n",
    "axs[3].plot(data_final_granger[\"Daily_change_stock_scaled\"].iloc[:30],color=\"y\")\n",
    "axs[3].plot(data_final_granger[\"Surprise\"].iloc[:30],color=\"m\")\n",
    "axs[4].plot(data_final_granger[\"Daily_change_stock_scaled\"].iloc[:30],color=\"y\")\n",
    "axs[4].plot(data_final_granger[\"Sad\"].iloc[:30],color=\"k\")\n",
    "axs[5].plot(data_final_granger[\"Daily_change_stock_scaled\"].iloc[:30],color=\"y\")\n",
    "axs[5].plot(data_final_granger[\"Fear\"].iloc[:30],color=\"k\")\n",
    "axs[0].set_title('Stock Price Vs Compound')\n",
    "axs[1].set_title('Stock Price Vs Happy')\n",
    "axs[2].set_title('Stock Price Vs Angry')\n",
    "axs[3].set_title('Stock Price Vs Surprise')\n",
    "axs[4].set_title('Stock Price Vs Sad')\n",
    "axs[5].set_title('Stock Price Vs Fear')\n",
    "fig.savefig('full_figure.png')"
   ]
  },
  {
   "cell_type": "code",
   "execution_count": null,
   "metadata": {},
   "outputs": [],
   "source": [
    "data_final_granger.drop(\"Daily_change_stock\", axis=1,inplace=True)"
   ]
  },
  {
   "cell_type": "code",
   "execution_count": null,
   "metadata": {
    "scrolled": true
   },
   "outputs": [],
   "source": [
    "#Checking for null values\n",
    "data_final_granger.isnull().sum()"
   ]
  },
  {
   "cell_type": "code",
   "execution_count": null,
   "metadata": {},
   "outputs": [],
   "source": [
    "data_final_granger.columns"
   ]
  },
  {
   "cell_type": "code",
   "execution_count": null,
   "metadata": {},
   "outputs": [],
   "source": [
    "#Looking at correlation\n",
    "import seaborn as sns\n",
    "corr = data_final_granger.corr()\n",
    "sns.heatmap(corr,xticklabels=corr.columns.values, yticklabels=corr.columns.values, annot=True)\n",
    "heat_map= plt.gcf()\n",
    "heat_map.set_size_inches(10,6)\n",
    "plt.xticks(fontsize=10)\n",
    "plt.yticks(fontsize=10)\n",
    "plt.show()"
   ]
  },
  {
   "cell_type": "markdown",
   "metadata": {},
   "source": [
    "# Granger Causality"
   ]
  },
  {
   "cell_type": "code",
   "execution_count": null,
   "metadata": {
    "scrolled": true
   },
   "outputs": [],
   "source": [
    "\n",
    "from statsmodels.tsa.stattools import grangercausalitytests\n",
    "maxlag=10\n",
    "test = 'ssr_chi2test'\n",
    "def grangers_causation_matrix(data, variables, test='ssr_chi2test', verbose=False):    \n",
    "    \"\"\"Check Granger Causality of all possible combinations of the Time series.\n",
    "    The rows are the response variable, columns are predictors. The values in the table \n",
    "    are the P-Values. P-Values lesser than the significance level (0.05), implies \n",
    "    the Null Hypothesis that the coefficients of the corresponding past values is \n",
    "    zero, that is, the X does not cause Y can be rejected.\n",
    "\n",
    "    data      : pandas dataframe containing the time series variables\n",
    "    variables : list containing names of the time series variables.\n",
    "    \"\"\"\n",
    "    df = pd.DataFrame(np.zeros((len(variables), len(variables))), columns=variables, index=variables)\n",
    "    for c in df.columns:\n",
    "        for r in df.index:\n",
    "            test_result = grangercausalitytests(data[[r, c]], maxlag=maxlag, verbose=False)\n",
    "            p_values = [round(test_result[i+1][0][test][1],4) for i in range(maxlag)]\n",
    "            if verbose: print(f'Y = {r}, X = {c}, P Values = {p_values}')\n",
    "            min_p_value = np.min(p_values)\n",
    "            df.loc[r, c] = min_p_value\n",
    "    df.columns = [var + '_x' for var in variables]\n",
    "    df.index = [var + '_y' for var in variables]\n",
    "    return df\n",
    "\n",
    "grangers_causation_matrix(data_final_granger, variables = data_final_granger.columns)    "
   ]
  },
  {
   "cell_type": "markdown",
   "metadata": {},
   "source": [
    "# Cointegration Test"
   ]
  },
  {
   "cell_type": "code",
   "execution_count": null,
   "metadata": {
    "scrolled": true
   },
   "outputs": [],
   "source": [
    "#Cointegration Test\n",
    "from statsmodels.tsa.vector_ar.vecm import coint_johansen\n",
    "\n",
    "def cointegration_test(df, alpha=0.05): \n",
    "    \"\"\"Perform Johanson's Cointegration Test and Report Summary\"\"\"\n",
    "    out = coint_johansen(df,-1,5)\n",
    "    d = {'0.90':0, '0.95':1, '0.99':2}\n",
    "    traces = out.lr1\n",
    "    cvts = out.cvt[:, d[str(1-alpha)]]\n",
    "    def adjust(val, length= 6): return str(val).ljust(length)\n",
    "\n",
    "    # Summary\n",
    "    print('Name   ::  Test Stat > C(95%)    =>   Signif  \\n', '--'*40)\n",
    "    for col, trace, cvt in zip(data_final_granger.columns, traces, cvts):\n",
    "        print(adjust(col), ':: ', adjust(round(trace,2), 9), \">\", adjust(cvt, 8), ' =>  ' , trace > cvt)\n",
    "\n",
    "cointegration_test(data_final_granger)"
   ]
  },
  {
   "cell_type": "markdown",
   "metadata": {},
   "source": [
    "# VAR (Vector Auto Regression)"
   ]
  },
  {
   "cell_type": "code",
   "execution_count": null,
   "metadata": {},
   "outputs": [],
   "source": [
    "#Training and Testing the data\n",
    "nobs=50\n",
    "df_train, df_test =data_final_granger[0:-nobs], data_final_granger[-nobs:]"
   ]
  },
  {
   "cell_type": "code",
   "execution_count": null,
   "metadata": {},
   "outputs": [],
   "source": [
    "print(df_train.shape)\n",
    "print(df_test.shape)"
   ]
  },
  {
   "cell_type": "code",
   "execution_count": null,
   "metadata": {},
   "outputs": [],
   "source": [
    "#Checking for Stationarity\n",
    "\n",
    "def adfuller_test(series, signif=0.05, name='', verbose=False):\n",
    "    \"\"\"Perform ADFuller to test for Stationarity of given series and print report\"\"\"\n",
    "    r = adfuller(series, autolag='AIC')\n",
    "    output = {'test_statistic':round(r[0], 4), 'pvalue':round(r[1], 4), 'n_lags':round(r[2], 4), 'n_obs':r[3]}\n",
    "    p_value = output['pvalue'] \n",
    "    def adjust(val, length= 6): return str(val).ljust(length)\n",
    "\n",
    "    # Print Summary\n",
    "    print(f'    Augmented Dickey-Fuller Test on \"{name}\"', \"\\n   \", '-'*47)\n",
    "    print(f' Null Hypothesis: Data has unit root. Non-Stationary.')\n",
    "    print(f' Significance Level    = {signif}')\n",
    "    print(f' Test Statistic        = {output[\"test_statistic\"]}')\n",
    "    print(f' No. Lags Chosen       = {output[\"n_lags\"]}')\n",
    "\n",
    "    for key,val in r[4].items():\n",
    "        print(f' Critical value {adjust(key)} = {round(val, 3)}')\n",
    "\n",
    "    if p_value <= signif:\n",
    "        print(f\" => P-Value = {p_value}. Rejecting Null Hypothesis.\")\n",
    "        print(f\" => Series is Stationary.\")\n",
    "    else:\n",
    "        print(f\" => P-Value = {p_value}. Weak evidence to reject the Null Hypothesis.\")\n",
    "        print(f\" => Series is Non-Stationary.\")    "
   ]
  },
  {
   "cell_type": "code",
   "execution_count": null,
   "metadata": {},
   "outputs": [],
   "source": [
    "for name, column in df_train.iteritems():\n",
    "    adfuller_test(column, name=column.name)\n",
    "    print('\\n')"
   ]
  },
  {
   "cell_type": "code",
   "execution_count": null,
   "metadata": {},
   "outputs": [],
   "source": [
    "#First Order differencing for stationarity\n",
    "df_differenced = df_train.diff().dropna()"
   ]
  },
  {
   "cell_type": "code",
   "execution_count": null,
   "metadata": {},
   "outputs": [],
   "source": [
    "for name, column in df_differenced.iteritems():\n",
    "    adfuller_test(column, name=column.name)\n",
    "    print('\\n')"
   ]
  },
  {
   "cell_type": "code",
   "execution_count": null,
   "metadata": {},
   "outputs": [],
   "source": [
    "df_differenced"
   ]
  },
  {
   "cell_type": "code",
   "execution_count": null,
   "metadata": {},
   "outputs": [],
   "source": [
    "model = VAR(df_differenced)\n",
    "for i in [1,2,3,4,5,6,7,8,9]:\n",
    "    result = model.fit(i)\n",
    "    print('Lag Order =', i)\n",
    "    print('AIC : ', result.aic)\n",
    "    print('BIC : ', result.bic)\n",
    "    print('FPE : ', result.fpe)\n",
    "    print('HQIC: ', result.hqic, '\\n')"
   ]
  },
  {
   "cell_type": "code",
   "execution_count": null,
   "metadata": {},
   "outputs": [],
   "source": [
    "x = model.select_order(maxlags=12)\n",
    "x.summary()"
   ]
  },
  {
   "cell_type": "code",
   "execution_count": null,
   "metadata": {},
   "outputs": [],
   "source": [
    "\n",
    "model_fitted = model.fit(2)\n",
    "model_fitted.summary()\n"
   ]
  },
  {
   "cell_type": "code",
   "execution_count": null,
   "metadata": {},
   "outputs": [],
   "source": [
    "#Durbin Watson test for serial correlation\n",
    "from statsmodels.stats.stattools import durbin_watson\n",
    "out = durbin_watson(model_fitted.resid)\n",
    "\n",
    "for col, val in zip(data_final_granger.columns, out):\n",
    "    print(col, ':', round(val, 2))"
   ]
  },
  {
   "cell_type": "code",
   "execution_count": null,
   "metadata": {},
   "outputs": [],
   "source": [
    "lag_order = model_fitted.k_ar\n",
    "print(lag_order)\n"
   ]
  },
  {
   "cell_type": "code",
   "execution_count": null,
   "metadata": {
    "scrolled": true
   },
   "outputs": [],
   "source": [
    "# Input data for forecasting\n",
    "input_data = df_differenced.values[-lag_order:]\n",
    "print(input_data)\n",
    "# forecasting\n",
    "pred = model_fitted.forecast(y=input_data, steps=nobs)\n",
    "pred = (pd.DataFrame(pred, index=df_test.index, columns=df_test.columns + '_pred'))\n",
    "#print(pred)\n",
    "pred"
   ]
  },
  {
   "cell_type": "code",
   "execution_count": null,
   "metadata": {},
   "outputs": [],
   "source": [
    "# inverting transformation\n",
    "def invert_transformation(df_train, df_forecast, second_diff=False):\n",
    "    \"\"\"Revert back the differencing to get the forecast to original scale.\"\"\"\n",
    "    df_fc = df_forecast.copy()\n",
    "    columns = df_train.columns\n",
    "    for col in columns:        \n",
    "        # Roll back 2nd Diff\n",
    "        if second_diff:\n",
    "            df_fc[str(col)+'_pred'] = (df_train[col].iloc[-1]-df_train[col].iloc[-2]) + df_fc[str(col)+'_pred'].cumsum()\n",
    "        # Roll back 1st Diff\n",
    "        df_fc[str(col)+'_forecast'] = df_train[col].iloc[-1] + df_fc[str(col)+'_pred'].cumsum()\n",
    "    return df_fc\n",
    "\n",
    "output = invert_transformation(df_train, pred,second_diff=False)\n"
   ]
  },
  {
   "cell_type": "code",
   "execution_count": null,
   "metadata": {},
   "outputs": [],
   "source": [
    "output"
   ]
  },
  {
   "cell_type": "code",
   "execution_count": null,
   "metadata": {},
   "outputs": [],
   "source": [
    "#combining predicted and real data set\n",
    "combine = pd.concat([output['Daily_change_stock_scaled_forecast'], df_test['Daily_change_stock_scaled']], axis=1)\n",
    "combine['accuracy'] = round(combine.apply(lambda row: row.Daily_change_stock_scaled_forecast /row.Daily_change_stock_scaled *100, axis = 1),2)\n",
    "combine['accuracy'] = pd.Series([\"{0:.2f}%\".format(val) for val in combine['accuracy']],index = combine.index)\n",
    "combine = combine.round(decimals=2)\n"
   ]
  },
  {
   "cell_type": "code",
   "execution_count": null,
   "metadata": {},
   "outputs": [],
   "source": [
    "combine"
   ]
  },
  {
   "cell_type": "code",
   "execution_count": null,
   "metadata": {},
   "outputs": [],
   "source": [
    "output\n"
   ]
  },
  {
   "cell_type": "code",
   "execution_count": null,
   "metadata": {},
   "outputs": [],
   "source": [
    "output.loc[:, [\"Daily_change_stock_scaled_forecast\", 'compound_forecast', 'Happy_forecast', 'Surprise_forecast',\n",
    "       'Sad_forecast', 'Fear_forecast']]"
   ]
  },
  {
   "cell_type": "code",
   "execution_count": null,
   "metadata": {},
   "outputs": [],
   "source": [
    "plt.figure(figsize=(12,8))\n",
    "plt.plot(output[\"Daily_change_stock_scaled_forecast\"].iloc[:10],color=\"b\")\n",
    "plt.plot(df_test[\"Daily_change_stock_scaled\"].iloc[:10],color=\"g\")\n",
    "\n",
    "plt.legend([\"Forecast\", \"Actual\"])\n",
    "plt.savefig(\"Graph_forecast.png\")"
   ]
  },
  {
   "cell_type": "code",
   "execution_count": null,
   "metadata": {},
   "outputs": [],
   "source": [
    "plt.figure(figsize=(12,8))\n",
    "plt.plot(output[\"Daily_change_stock_scaled_forecast\"],color=\"b\")\n",
    "plt.plot(df_test[\"Daily_change_stock_scaled\"],color=\"g\")\n",
    "\n",
    "plt.legend([\"Forecast\", \"Actual\"])\n",
    "plt.savefig(\"Graph_forecast_full.png\")"
   ]
  },
  {
   "cell_type": "code",
   "execution_count": null,
   "metadata": {},
   "outputs": [],
   "source": [
    "#Error Testing\n",
    "from statsmodels.tsa.stattools import acf\n",
    "def forecast_accuracy(forecast, actual):\n",
    "    mape = np.mean(np.abs(forecast - actual)/np.abs(actual))  # MAPE\n",
    "    me = np.mean(forecast - actual)             # ME\n",
    "    mae = np.mean(np.abs(forecast - actual))    # MAE\n",
    "    mpe = np.mean((forecast - actual)/actual)   # MPE\n",
    "    rmse = np.mean((forecast - actual)**2)**.5  # RMSE\n",
    "    corr = np.corrcoef(forecast, actual)[0,1]   # corr\n",
    "    mins = np.amin(np.hstack([forecast[:,None], \n",
    "                              actual[:,None]]), axis=1)\n",
    "    maxs = np.amax(np.hstack([forecast[:,None], \n",
    "                              actual[:,None]]), axis=1)\n",
    "    minmax = 1 - np.mean(mins/maxs)             # minmax\n",
    "    return({'mape':mape, 'me':me, 'mae': mae, \n",
    "            'mpe': mpe, 'rmse':rmse, 'corr':corr, 'minmax':minmax})\n"
   ]
  },
  {
   "cell_type": "code",
   "execution_count": null,
   "metadata": {},
   "outputs": [],
   "source": [
    "print('Forecast Accuracy of: Stock Price')\n",
    "forecast_errors = [output['Daily_change_stock_scaled_forecast'][i]- df_test['Daily_change_stock_scaled'][i] for i in range(len(df_test['Daily_change_stock_scaled']))]\n",
    "bias = sum(forecast_errors) * 1.0/len(df_test['Daily_change_stock_scaled'])\n",
    "print('Bias: %f' % bias)\n",
    "accuracy_prod = forecast_accuracy(output['Daily_change_stock_scaled_forecast'].values, df_test['Daily_change_stock_scaled'])\n",
    "for k, v in accuracy_prod.items():\n",
    "    print(k, ': ', round(v,4))\n"
   ]
  }
 ],
 "metadata": {
  "kernelspec": {
   "display_name": "Python 3",
   "language": "python",
   "name": "python3"
  },
  "language_info": {
   "codemirror_mode": {
    "name": "ipython",
    "version": 3
   },
   "file_extension": ".py",
   "mimetype": "text/x-python",
   "name": "python",
   "nbconvert_exporter": "python",
   "pygments_lexer": "ipython3",
   "version": "3.8.3"
  }
 },
 "nbformat": 4,
 "nbformat_minor": 4
}
